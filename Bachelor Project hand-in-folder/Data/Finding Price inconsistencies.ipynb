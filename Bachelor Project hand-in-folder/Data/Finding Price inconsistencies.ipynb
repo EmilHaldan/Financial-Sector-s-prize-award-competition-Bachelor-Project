{
 "cells": [
  {
   "cell_type": "code",
   "execution_count": 104,
   "metadata": {},
   "outputs": [],
   "source": [
    "import numpy as np\n",
    "import pandas as pd \n",
    "import os\n",
    "import time\n",
    "from tqdm.notebook import tqdm\n",
    "import plotly.express as px\n",
    "from statistics import stdev\n"
   ]
  },
  {
   "cell_type": "markdown",
   "metadata": {},
   "source": [
    "# Finding Inconsistencies\n",
    "\n",
    "This Notebook will be devoted to find inconsistencies within the data. \n",
    "Price fluctuations will be defined as 10 pips or more as it it minute based, where an inconsistency will be determined by a large gap in the previous close price, and the following open price.\n",
    "\n",
    "The previous close price should be equal to the new open price, however, in most cases there is a small gap. Gaps should not be larger than 10 pips\n"
   ]
  },
  {
   "attachments": {
    "image.png": {
     "image/png": "[encoded data removed]"
    }
   },
   "cell_type": "markdown",
   "metadata": {},
   "source": [
    "![image.png](attachment:image.png)"
   ]
  },
  {
   "cell_type": "code",
   "execution_count": 60,
   "metadata": {},
   "outputs": [
    {
     "data": {
      "application/vnd.jupyter.widget-view+json": {
       "model_id": "1e541207aacc4103a8b19c746f1268db",
       "version_major": 2,
       "version_minor": 0
      },
      "text/plain": [
       "HBox(children=(FloatProgress(value=0.0, max=12.0), HTML(value='')))"
      ]
     },
     "metadata": {},
     "output_type": "display_data"
    },
    {
     "name": "stdout",
     "output_type": "stream",
     "text": [
      "\n"
     ]
    },
    {
     "data": {
      "text/html": [
       "<div>\n",
       "<style scoped>\n",
       "    .dataframe tbody tr th:only-of-type {\n",
       "        vertical-align: middle;\n",
       "    }\n",
       "\n",
       "    .dataframe tbody tr th {\n",
       "        vertical-align: top;\n",
       "    }\n",
       "\n",
       "    .dataframe thead th {\n",
       "        text-align: right;\n",
       "    }\n",
       "</style>\n",
       "<table border=\"1\" class=\"dataframe\">\n",
       "  <thead>\n",
       "    <tr style=\"text-align: right;\">\n",
       "      <th></th>\n",
       "      <th>Date_time</th>\n",
       "      <th>Open</th>\n",
       "      <th>High</th>\n",
       "      <th>Low</th>\n",
       "      <th>Close</th>\n",
       "    </tr>\n",
       "  </thead>\n",
       "  <tbody>\n",
       "    <tr>\n",
       "      <th>0</th>\n",
       "      <td>2009-01-01 18:59:00</td>\n",
       "      <td>1.40050</td>\n",
       "      <td>1.40050</td>\n",
       "      <td>1.40050</td>\n",
       "      <td>1.40050</td>\n",
       "    </tr>\n",
       "    <tr>\n",
       "      <th>1</th>\n",
       "      <td>2009-01-01 19:00:00</td>\n",
       "      <td>1.40080</td>\n",
       "      <td>1.40080</td>\n",
       "      <td>1.40030</td>\n",
       "      <td>1.40040</td>\n",
       "    </tr>\n",
       "    <tr>\n",
       "      <th>2</th>\n",
       "      <td>2009-01-01 19:01:00</td>\n",
       "      <td>1.40050</td>\n",
       "      <td>1.40090</td>\n",
       "      <td>1.40050</td>\n",
       "      <td>1.40080</td>\n",
       "    </tr>\n",
       "    <tr>\n",
       "      <th>3</th>\n",
       "      <td>2009-01-01 19:02:00</td>\n",
       "      <td>1.40090</td>\n",
       "      <td>1.40110</td>\n",
       "      <td>1.40090</td>\n",
       "      <td>1.40110</td>\n",
       "    </tr>\n",
       "    <tr>\n",
       "      <th>4</th>\n",
       "      <td>2009-01-01 19:03:00</td>\n",
       "      <td>1.40090</td>\n",
       "      <td>1.40090</td>\n",
       "      <td>1.40050</td>\n",
       "      <td>1.40050</td>\n",
       "    </tr>\n",
       "    <tr>\n",
       "      <th>...</th>\n",
       "      <td>...</td>\n",
       "      <td>...</td>\n",
       "      <td>...</td>\n",
       "      <td>...</td>\n",
       "      <td>...</td>\n",
       "    </tr>\n",
       "    <tr>\n",
       "      <th>4488333</th>\n",
       "      <td>2020-12-31 16:54:00</td>\n",
       "      <td>1.22159</td>\n",
       "      <td>1.22182</td>\n",
       "      <td>1.22153</td>\n",
       "      <td>1.22175</td>\n",
       "    </tr>\n",
       "    <tr>\n",
       "      <th>4488334</th>\n",
       "      <td>2020-12-31 16:55:00</td>\n",
       "      <td>1.22175</td>\n",
       "      <td>1.22180</td>\n",
       "      <td>1.22170</td>\n",
       "      <td>1.22174</td>\n",
       "    </tr>\n",
       "    <tr>\n",
       "      <th>4488335</th>\n",
       "      <td>2020-12-31 16:56:00</td>\n",
       "      <td>1.22176</td>\n",
       "      <td>1.22179</td>\n",
       "      <td>1.22160</td>\n",
       "      <td>1.22165</td>\n",
       "    </tr>\n",
       "    <tr>\n",
       "      <th>4488336</th>\n",
       "      <td>2020-12-31 16:57:00</td>\n",
       "      <td>1.22166</td>\n",
       "      <td>1.22167</td>\n",
       "      <td>1.22153</td>\n",
       "      <td>1.22164</td>\n",
       "    </tr>\n",
       "    <tr>\n",
       "      <th>4488337</th>\n",
       "      <td>2020-12-31 16:58:00</td>\n",
       "      <td>1.22163</td>\n",
       "      <td>1.22168</td>\n",
       "      <td>1.22143</td>\n",
       "      <td>1.22153</td>\n",
       "    </tr>\n",
       "  </tbody>\n",
       "</table>\n",
       "<p>4488338 rows × 5 columns</p>\n",
       "</div>"
      ],
      "text/plain": [
       "                   Date_time     Open     High      Low    Close\n",
       "0        2009-01-01 18:59:00  1.40050  1.40050  1.40050  1.40050\n",
       "1        2009-01-01 19:00:00  1.40080  1.40080  1.40030  1.40040\n",
       "2        2009-01-01 19:01:00  1.40050  1.40090  1.40050  1.40080\n",
       "3        2009-01-01 19:02:00  1.40090  1.40110  1.40090  1.40110\n",
       "4        2009-01-01 19:03:00  1.40090  1.40090  1.40050  1.40050\n",
       "...                      ...      ...      ...      ...      ...\n",
       "4488333  2020-12-31 16:54:00  1.22159  1.22182  1.22153  1.22175\n",
       "4488334  2020-12-31 16:55:00  1.22175  1.22180  1.22170  1.22174\n",
       "4488335  2020-12-31 16:56:00  1.22176  1.22179  1.22160  1.22165\n",
       "4488336  2020-12-31 16:57:00  1.22166  1.22167  1.22153  1.22164\n",
       "4488337  2020-12-31 16:58:00  1.22163  1.22168  1.22143  1.22153\n",
       "\n",
       "[4488338 rows x 5 columns]"
      ]
     },
     "execution_count": 60,
     "metadata": {},
     "output_type": "execute_result"
    }
   ],
   "source": [
    "def load_ohlc_data(years, fx_pair, ohlc_len):\n",
    "    \"\"\"\n",
    "    years: A list of years used.\n",
    "    \"\"\"\n",
    "    for idx,year in enumerate(tqdm(years)):\n",
    "        if ohlc_len == 1:\n",
    "            temp_df = pd.read_csv(\"Cleaned_OHLC_FOREX_Data/{}/{}_{}_1min.csv\".format(fx_pair, fx_pair,  year)).drop(columns =['Unnamed: 0'])\n",
    "        elif ohlc_len == 10:\n",
    "            temp_df = pd.read_csv(\"Cleaned_OHLC_FOREX_Data_10_min/{}/{}_{}_10min.csv\".format(fx_pair, fx_pair,  year)).drop(columns =['Unnamed: 0'])\n",
    "        else:\n",
    "            print(\"OHLC_len should be 1 or 10!\")\n",
    "            return\n",
    "            \n",
    "        if idx != 0:\n",
    "            ohlc_df = pd.concat([ohlc_df, temp_df], axis=0)\n",
    "        else:\n",
    "            ohlc_df = temp_df\n",
    "           \n",
    "    ohlc_df.reset_index(inplace = True, drop = True)\n",
    "    return ohlc_df\n",
    "\n",
    "df = load_ohlc_data([i for i in range(2009,2021)], \"EURUSD\", 1)\n",
    "df\n",
    "\n"
   ]
  },
  {
   "cell_type": "code",
   "execution_count": 122,
   "metadata": {},
   "outputs": [],
   "source": [
    "def print_ohlc_row(idx, prev_close, _open, close, inconsist):\n",
    "    print(f\"IDX: {idx}  Previous Close: {prev_close}  Open: {_open}  Close: {close}  Status: {inconsist}\")\n",
    "            \n",
    "\n",
    "def report_inconsistencies_original_data(ohlc_df, verbose = False ):\n",
    "    \n",
    "    fluctuations = {\"real\":[] , \"inconsistent\":[] , \n",
    "                    \"real_close_price_change\": [] , \"inconsistent_close_price_change\":[] }\n",
    "        \n",
    "    prev_close = ohlc_df.loc[0,'Close']\n",
    "    for idx,close in tqdm(enumerate(ohlc_df['Close']), total = len(ohlc_df)):\n",
    "        date = ohlc_df.loc[idx,'Date_time'][8:10]\n",
    "        \n",
    "        if abs(close - prev_close) >= 0.0010:\n",
    "            \n",
    "            if (int(date) > int(prev_close)+2) or (int(date) < int(prev_close)-21):\n",
    "                # If the difference in time is due to a weekend, or monthly change\n",
    "                # This only activates if a price fluctuation in price is found.\n",
    "                prev_date = date\n",
    "                prev_close = close\n",
    "                \n",
    "                # Add it as a real fluctuation, as this also happens in the market\n",
    "                fluctuations['real'].append(idx)\n",
    "                if verbose:\n",
    "                    print_ohlc_row(idx, prev_close, _open, close, \"Consistent\")\n",
    "                    \n",
    "                continue\n",
    "                \n",
    "            _open = ohlc_df.loc[idx,'Open']\n",
    "            if abs(_open - prev_close) >= 0.0010:\n",
    "                # The difference of open and close price is greathe than 15 pips.\n",
    "                fluctuations['inconsistent'].append(idx)\n",
    "                fluctuations['inconsistent_close_price_change'].append(abs(close - prev_close))\n",
    "                if verbose:\n",
    "                    print_ohlc_row(idx, prev_close, _open, close, \"Inconsistent\")\n",
    "            else:\n",
    "                # The difference of open and close price is not greater than 15 pips.\n",
    "                fluctuations['real'].append(idx)\n",
    "                fluctuations['real_close_price_change'].append(abs(close - prev_close))\n",
    "                if verbose:\n",
    "                    print_ohlc_row(idx, prev_close, _open, close, \"Consistent\")\n",
    "                    \n",
    "        \n",
    "        prev_date = date\n",
    "        prev_close = close\n",
    "            \n",
    "    return fluctuations\n",
    "\n",
    "\n",
    "def report_inconsistency_data(fluctuations, year_string, total_df_len):\n",
    "    \n",
    "    r_mean = sum(fluctuations['real_close_price_change']) / len(fluctuations['real_close_price_change'])\n",
    "    i_mean = sum(fluctuations['inconsistent_close_price_change']) / len(fluctuations['inconsistent_close_price_change'])\n",
    "    \n",
    "    r_stdev = stdev(fluctuations['real_close_price_change'])\n",
    "    i_stdev = stdev(fluctuations['inconsistent_close_price_change'])\n",
    "    \n",
    "    r_max = max(fluctuations['real_close_price_change'])\n",
    "    r_min = min(fluctuations['real_close_price_change'])\n",
    "    i_max = max(fluctuations['inconsistent_close_price_change'])\n",
    "    i_min = min(fluctuations['inconsistent_close_price_change'])\n",
    "    \n",
    "    print(\"A price fluctuation is defined as a change of 10 pips from the \")\n",
    "    print(\"close price using 1 minute OHLC data. If the past close price, is not within 10 pips\")\n",
    "    print(\"of the open price, it is considered inconsistent.\\n\")\n",
    "    print(\"\")\n",
    "    print(\"Price fluctuation statistics {}\".format(year_string))\n",
    "    print(f\"Number of rows in dataframe            : {total_df_len}\")\n",
    "    print(f\"Number of real fluctuations            : {len(fluctuations['real'])}\")\n",
    "    print(f\"Number of inconsistent fluctuations    : {len(fluctuations['inconsistent'])}\")\n",
    "    print(\"\")\n",
    "    print(f\"Mean change in close of real fluctuations                             : {r_mean:.5f}\")\n",
    "    print(f\"Mean change in close of of inconsistent fluctuations                  : {i_mean:.5f}\")\n",
    "    print(\"\")\n",
    "    print(f\"Standard deviation of change in close of real fluctuations            : {r_stdev:.5f}\")\n",
    "    print(f\"Standard deviation of change in close of of inconsistent fluctuations : {i_stdev:.5f}\")\n",
    "    print(\"\")\n",
    "    print(f\"Min, Max of change in close of real fluctuations             : {r_min:.5f}  {r_max:.5f}\")\n",
    "    print(f\"Min, Max of change in close of of inconsistent fluctuations  : {i_min:.5f}  {i_max:.5f}\")    \n",
    "    \n",
    "    "
   ]
  },
  {
   "cell_type": "code",
   "execution_count": 123,
   "metadata": {},
   "outputs": [
    {
     "data": {
      "application/vnd.jupyter.widget-view+json": {
       "model_id": "a1e71bafe97d414d80a008e538ae96f0",
       "version_major": 2,
       "version_minor": 0
      },
      "text/plain": [
       "HBox(children=(FloatProgress(value=0.0, max=11.0), HTML(value='')))"
      ]
     },
     "metadata": {},
     "output_type": "display_data"
    },
    {
     "name": "stdout",
     "output_type": "stream",
     "text": [
      "\n"
     ]
    },
    {
     "data": {
      "application/vnd.jupyter.widget-view+json": {
       "model_id": "e6cf5fd68be8407a89749c62d25a8ac1",
       "version_major": 2,
       "version_minor": 0
      },
      "text/plain": [
       "HBox(children=(FloatProgress(value=0.0, max=4110209.0), HTML(value='')))"
      ]
     },
     "metadata": {},
     "output_type": "display_data"
    },
    {
     "name": "stdout",
     "output_type": "stream",
     "text": [
      "\n",
      "A price fluctuation is defined as a change of 10 pips from the \n",
      "close price using 1 minute OHLC data. If the past close price, is not within 10 pips\n",
      "of the open price, it is considered inconsistent.\n",
      "\n",
      "\n",
      "Price fluctuation statistics 2009-2019\n",
      "Number of rows in dataframe            : 4110209\n",
      "Number of real fluctuations            : 92776\n",
      "Number of inconsistent fluctuations    : 8802\n",
      "\n",
      "Mean change in close of real fluctuations                             : 0.00144\n",
      "Mean change in close of of inconsistent fluctuations                  : 0.01484\n",
      "\n",
      "Standard deviation of change in close of real fluctuations            : 0.00072\n",
      "Standard deviation of change in close of of inconsistent fluctuations : 0.01512\n",
      "\n",
      "Min, Max of change in close of real fluctuations             : 0.00100  0.01240\n",
      "Min, Max of change in close of of inconsistent fluctuations  : 0.00100  0.10980\n"
     ]
    }
   ],
   "source": [
    "df = load_ohlc_data([i for i in range(2016,2016)], \"EURUSD\", 1)\n",
    "fluctuations = report_inconsistencies_original_data(df, False)\n",
    "report_inconsistency_data(fluctuations, \"2016\", len(df))"
   ]
  },
  {
   "cell_type": "code",
   "execution_count": 124,
   "metadata": {},
   "outputs": [
    {
     "data": {
      "application/vnd.jupyter.widget-view+json": {
       "model_id": "fb4b7e001b5b4df5b9c6283eaeb44e0e",
       "version_major": 2,
       "version_minor": 0
      },
      "text/plain": [
       "HBox(children=(FloatProgress(value=0.0, max=1.0), HTML(value='')))"
      ]
     },
     "metadata": {},
     "output_type": "display_data"
    },
    {
     "name": "stdout",
     "output_type": "stream",
     "text": [
      "\n"
     ]
    },
    {
     "data": {
      "application/vnd.jupyter.widget-view+json": {
       "model_id": "0a6453a620174de8b64b1709dc884ef1",
       "version_major": 2,
       "version_minor": 0
      },
      "text/plain": [
       "HBox(children=(FloatProgress(value=0.0, max=378129.0), HTML(value='')))"
      ]
     },
     "metadata": {},
     "output_type": "display_data"
    },
    {
     "name": "stdout",
     "output_type": "stream",
     "text": [
      "\n",
      "A price fluctuation is defined as a change of 10 pips from the \n",
      "close price using 1 minute OHLC data. If the past close price, is not within 10 pips\n",
      "of the open price, it is considered inconsistent.\n",
      "\n",
      "\n",
      "Price fluctuation statistics 2020\n",
      "Number of rows in dataframe            : 378129\n",
      "Number of real fluctuations            : 1820\n",
      "Number of inconsistent fluctuations    : 168\n",
      "\n",
      "Mean change in close of real fluctuations                             : 0.00140\n",
      "Mean change in close of of inconsistent fluctuations                  : 0.00705\n",
      "\n",
      "Standard deviation of change in close of real fluctuations            : 0.00074\n",
      "Standard deviation of change in close of of inconsistent fluctuations : 0.00708\n",
      "\n",
      "Min, Max of change in close of real fluctuations             : 0.00100  0.00583\n",
      "Min, Max of change in close of of inconsistent fluctuations  : 0.00105  0.02420\n"
     ]
    }
   ],
   "source": [
    "df = load_ohlc_data([i for i in range(2020,2021)], \"EURUSD\", 1)\n",
    "fluctuations = report_inconsistencies_original_data(df, False)\n",
    "report_inconsistency_data(fluctuations, \"2020\", len(df))"
   ]
  }
 ],
 "metadata": {
  "kernelspec": {
   "display_name": "Python 3",
   "language": "python",
   "name": "python3"
  },
  "language_info": {
   "codemirror_mode": {
    "name": "ipython",
    "version": 3
   },
   "file_extension": ".py",
   "mimetype": "text/x-python",
   "name": "python",
   "nbconvert_exporter": "python",
   "pygments_lexer": "ipython3",
   "version": "3.7.4"
  }
 },
 "nbformat": 4,
 "nbformat_minor": 2
}
