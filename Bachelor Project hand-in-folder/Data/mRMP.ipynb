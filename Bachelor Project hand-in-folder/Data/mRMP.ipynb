{
 "cells": [
  {
   "cell_type": "markdown",
   "metadata": {},
   "source": [
    "$$\n",
    "\\\\\n",
    "mRMP =  (cumulative\\ pips\\ gained)^2 \\cdot pip\\ ratio \\\\\n",
    "\\\\\n",
    "$$"
   ]
  },
  {
   "cell_type": "code",
   "execution_count": 96,
   "metadata": {},
   "outputs": [
    {
     "name": "stdout",
     "output_type": "stream",
     "text": [
      "mRMP for baseline model, threshold 1:  -14426567.423142822\n",
      "mRMP for baseline model, threshold 2:  503703.3808518815\n",
      "mRMP for baseline model, threshold 3:  2663812.4833738143\n",
      "mRMP for baseline model, threshold 4:  3228770.172908566\n"
     ]
    }
   ],
   "source": [
    "pips_gained = [-6874.4, 1600.9, 2483.1, 2402.5]\n",
    "pips_traded = [22518.6, 8145.5, 5747.5, 4294.9]\n",
    "\n",
    "for i in range(0,4):\n",
    "    pip_ratio = pips_gained[i] / pips_traded[i]\n",
    "    mRMP = (pips_gained[i])**2 * pips_pr_trade \n",
    "\n",
    "    print(f\"mRMP for baseline model, threshold {i+1}: \", mRMP)"
   ]
  },
  {
   "cell_type": "markdown",
   "metadata": {},
   "source": [
    "$$\n",
    "\\mu \\pm \\sigma\n",
    "$$"
   ]
  }
 ],
 "metadata": {
  "kernelspec": {
   "display_name": "Python 3",
   "language": "python",
   "name": "python3"
  },
  "language_info": {
   "codemirror_mode": {
    "name": "ipython",
    "version": 3
   },
   "file_extension": ".py",
   "mimetype": "text/x-python",
   "name": "python",
   "nbconvert_exporter": "python",
   "pygments_lexer": "ipython3",
   "version": "3.7.4"
  }
 },
 "nbformat": 4,
 "nbformat_minor": 2
}
