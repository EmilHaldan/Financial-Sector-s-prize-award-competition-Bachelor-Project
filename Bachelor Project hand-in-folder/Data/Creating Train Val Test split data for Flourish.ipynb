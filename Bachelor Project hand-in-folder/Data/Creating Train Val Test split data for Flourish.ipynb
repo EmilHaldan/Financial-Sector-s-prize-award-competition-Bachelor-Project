{
 "cells": [
  {
   "cell_type": "code",
   "execution_count": 2,
   "metadata": {},
   "outputs": [],
   "source": [
    "import pandas as pd\n",
    "import random as rn"
   ]
  },
  {
   "cell_type": "code",
   "execution_count": 6,
   "metadata": {},
   "outputs": [
    {
     "name": "stdout",
     "output_type": "stream",
     "text": [
      "This many -1 values: 71.171%\n",
      "This many 0 values : 17.718%\n",
      "This many 1 values : 11.111%\n"
     ]
    }
   ],
   "source": [
    "df = pd.DataFrame()\n",
    "\n",
    "\n",
    "\n",
    "dates = []\n",
    "values = []\n",
    "\n",
    "for year in range(2012,2021):\n",
    "    for month in range(1,13):\n",
    "        days_in_month_ish = 31\n",
    "        if month == 2:\n",
    "            days_in_month_ish = 28\n",
    "        elif month%2 == 0:\n",
    "            days_in_month_ish = 30\n",
    "            \n",
    "        for days in range(days_in_month_ish):\n",
    "            if days% 2== 0:\n",
    "                dates.append(year)\n",
    "\n",
    "                if year >= 2020:\n",
    "                    values.append(1)\n",
    "                    \n",
    "                else:\n",
    "                    val = rn.choice([-1,-1,-1,-1,-1,-1,-1,-1,0,0])\n",
    "                    values.append(val)\n",
    "\n",
    "df['Dates'] = dates\n",
    "df['Values'] = values\n",
    "\n",
    "print(\"This many -1 values: {:.3f}%\".format(100*len(df[df['Values'] == -1]) / len(df)))\n",
    "print(\"This many 0 values : {:.3f}%\".format(100*len(df[df['Values'] == 0])/ len(df)))\n",
    "print(\"This many 1 values : {:.3f}%\".format(100*len(df[df['Values'] == 1])/ len(df)))"
   ]
  },
  {
   "cell_type": "code",
   "execution_count": 7,
   "metadata": {},
   "outputs": [],
   "source": [
    "df.to_excel(\"Data for flourish.xlsx\")"
   ]
  }
 ],
 "metadata": {
  "kernelspec": {
   "display_name": "Python 3",
   "language": "python",
   "name": "python3"
  },
  "language_info": {
   "codemirror_mode": {
    "name": "ipython",
    "version": 3
   },
   "file_extension": ".py",
   "mimetype": "text/x-python",
   "name": "python",
   "nbconvert_exporter": "python",
   "pygments_lexer": "ipython3",
   "version": "3.7.4"
  }
 },
 "nbformat": 4,
 "nbformat_minor": 2
}
