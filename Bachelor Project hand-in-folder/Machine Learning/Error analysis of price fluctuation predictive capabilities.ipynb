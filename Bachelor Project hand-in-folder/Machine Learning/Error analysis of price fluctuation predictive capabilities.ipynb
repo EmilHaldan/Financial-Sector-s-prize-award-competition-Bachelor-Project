{
 "cells": [
  {
   "cell_type": "code",
   "execution_count": 1,
   "metadata": {},
   "outputs": [],
   "source": [
    "import pandas as pd "
   ]
  },
  {
   "cell_type": "code",
   "execution_count": 39,
   "metadata": {},
   "outputs": [],
   "source": [
    "def fetch_results(results_file):\n",
    "\n",
    "    df = pd.read_csv(results_file).drop(columns = [\"Unnamed: 0\"])\n",
    "    return df\n",
    "\n",
    "\n",
    "lstm_results_file = \"Saved_models\\\\LSTM_models_1st_iter\\\\Model_96\\\\y_test_y_pred.csv\"\n",
    "temp = fetch_results(lstm_results_file)"
   ]
  },
  {
   "cell_type": "code",
   "execution_count": 29,
   "metadata": {},
   "outputs": [
    {
     "data": {
      "text/html": [
       "<div>\n",
       "<style scoped>\n",
       "    .dataframe tbody tr th:only-of-type {\n",
       "        vertical-align: middle;\n",
       "    }\n",
       "\n",
       "    .dataframe tbody tr th {\n",
       "        vertical-align: top;\n",
       "    }\n",
       "\n",
       "    .dataframe thead th {\n",
       "        text-align: right;\n",
       "    }\n",
       "</style>\n",
       "<table border=\"1\" class=\"dataframe\">\n",
       "  <thead>\n",
       "    <tr style=\"text-align: right;\">\n",
       "      <th></th>\n",
       "      <th>y_test</th>\n",
       "      <th>y_pred</th>\n",
       "    </tr>\n",
       "  </thead>\n",
       "  <tbody>\n",
       "    <tr>\n",
       "      <th>0</th>\n",
       "      <td>-5.1</td>\n",
       "      <td>-0.295970</td>\n",
       "    </tr>\n",
       "    <tr>\n",
       "      <th>1</th>\n",
       "      <td>-4.1</td>\n",
       "      <td>-0.134379</td>\n",
       "    </tr>\n",
       "    <tr>\n",
       "      <th>2</th>\n",
       "      <td>-7.0</td>\n",
       "      <td>-0.126345</td>\n",
       "    </tr>\n",
       "    <tr>\n",
       "      <th>3</th>\n",
       "      <td>-5.8</td>\n",
       "      <td>0.029337</td>\n",
       "    </tr>\n",
       "    <tr>\n",
       "      <th>4</th>\n",
       "      <td>-4.9</td>\n",
       "      <td>0.221473</td>\n",
       "    </tr>\n",
       "    <tr>\n",
       "      <th>...</th>\n",
       "      <td>...</td>\n",
       "      <td>...</td>\n",
       "    </tr>\n",
       "    <tr>\n",
       "      <th>35849</th>\n",
       "      <td>-5.3</td>\n",
       "      <td>-0.516042</td>\n",
       "    </tr>\n",
       "    <tr>\n",
       "      <th>35850</th>\n",
       "      <td>-4.6</td>\n",
       "      <td>-0.374934</td>\n",
       "    </tr>\n",
       "    <tr>\n",
       "      <th>35851</th>\n",
       "      <td>0.0</td>\n",
       "      <td>-0.411533</td>\n",
       "    </tr>\n",
       "    <tr>\n",
       "      <th>35852</th>\n",
       "      <td>0.0</td>\n",
       "      <td>-0.307701</td>\n",
       "    </tr>\n",
       "    <tr>\n",
       "      <th>35853</th>\n",
       "      <td>0.0</td>\n",
       "      <td>-0.016250</td>\n",
       "    </tr>\n",
       "  </tbody>\n",
       "</table>\n",
       "<p>35854 rows × 2 columns</p>\n",
       "</div>"
      ],
      "text/plain": [
       "       y_test    y_pred\n",
       "0        -5.1 -0.295970\n",
       "1        -4.1 -0.134379\n",
       "2        -7.0 -0.126345\n",
       "3        -5.8  0.029337\n",
       "4        -4.9  0.221473\n",
       "...       ...       ...\n",
       "35849    -5.3 -0.516042\n",
       "35850    -4.6 -0.374934\n",
       "35851     0.0 -0.411533\n",
       "35852     0.0 -0.307701\n",
       "35853     0.0 -0.016250\n",
       "\n",
       "[35854 rows x 2 columns]"
      ]
     },
     "execution_count": 29,
     "metadata": {},
     "output_type": "execute_result"
    }
   ],
   "source": [
    "cnn_results_file = \"Saved_models\\\\CNN_models_1st_iter\\\\\\Model_87\\\\y_test_y_pred.csv\"\n",
    "fetch_results(cnn_results_file)"
   ]
  },
  {
   "cell_type": "code",
   "execution_count": 59,
   "metadata": {},
   "outputs": [],
   "source": [
    "def discard_indeces_pred(df, bound, keep_middle = True):\n",
    "    for idx,val in enumerate(df['y_pred'].copy()):\n",
    "        if keep_middle:\n",
    "            if (-bound < val < bound):\n",
    "                pass\n",
    "            else: \n",
    "                df.drop(idx, inplace = True)\n",
    "                \n",
    "        else: \n",
    "            if bound > abs(val):\n",
    "                df.drop(idx, inplace = True)\n",
    "                            \n",
    "    return df.reset_index(drop=True)"
   ]
  },
  {
   "cell_type": "code",
   "execution_count": 67,
   "metadata": {},
   "outputs": [
    {
     "data": {
      "text/plain": [
       "(0.008643635285113858, 37377)"
      ]
     },
     "execution_count": 67,
     "metadata": {},
     "output_type": "execute_result"
    }
   ],
   "source": [
    "def calc_pip_ratio(df):\n",
    "    error = 0\n",
    "    y_test,y_pred = df['y_test'] ,df['y_pred']\n",
    "    \n",
    "    len_df = len(df)\n",
    "    if len_df == 0:\n",
    "        len_df = 1\n",
    "    \n",
    "    abs_sum_pips = sum([abs(y_test[i]) for i in range(len(df))])\n",
    "    \n",
    "    # y_pred defines the direction of the trade. Negative pips mean a possitive trade, if shorted.\n",
    "    sum_pips = sum([y_test[i] if y_pred[i] >= 0 else -y_test[i] for i in range(len(df))]) \n",
    "    pip_rat =  sum_pips / abs_sum_pips\n",
    "    \n",
    "    return pip_rat, len_df\n",
    "       \n",
    "df = fetch_results(base_results_file)  \n",
    "pip_rat,  len_df = calc_pip_volatility(df)\n",
    "\n",
    "pip_rat,  len_df"
   ]
  },
  {
   "cell_type": "code",
   "execution_count": 69,
   "metadata": {},
   "outputs": [
    {
     "name": "stdout",
     "output_type": "stream",
     "text": [
      "LSTM pip ratio of predictions with absolute value greater than 4:  0.05   samples: 20971\n",
      "LSTM pip ratio of predictions with absolute value greater than 8:  0.075   samples: 11327\n",
      "LSTM pip ratio of predictions with absolute value greater than 12:  0.095   samples: 6083\n",
      "LSTM pip ratio of predictions with absolute value greater than 16:  0.14   samples: 3386\n",
      "LSTM pip ratio of predictions with absolute value greater than 20:  0.209   samples: 1908\n",
      "LSTM pip ratio of predictions with absolute value greater than 24:  0.25   samples: 1087\n",
      "LSTM pip ratio of predictions with absolute value greater than 28:  0.326   samples: 596\n",
      "LSTM pip ratio of predictions with absolute value greater than 32:  0.489   samples: 298\n",
      "LSTM pip ratio of predictions with absolute value greater than 36:  0.528   samples: 159\n",
      "LSTM pip ratio of predictions with absolute value greater than 40:  0.75   samples: 89\n"
     ]
    }
   ],
   "source": [
    "for i in range(4,41,4):\n",
    "    lstm_pip_rat,  len_df = calc_pip_ratio(discard_indeces_pred(fetch_results(lstm_results_file),i, keep_middle = False))\n",
    "    print(f\"LSTM pip ratio of predictions with absolute value greater than {i}: \", round(lstm_pip_rat,3), f\"  samples: {len_df}\")"
   ]
  },
  {
   "cell_type": "code",
   "execution_count": 79,
   "metadata": {},
   "outputs": [
    {
     "name": "stdout",
     "output_type": "stream",
     "text": [
      "CNN pip ratio of predictions with absolute value greater than 0.3000:  0.017   samples: 19250\n",
      "CNN pip ratio of predictions with absolute value greater than 0.6000:  0.031   samples: 9244\n",
      "CNN pip ratio of predictions with absolute value greater than 0.9000:  0.081   samples: 4281\n",
      "CNN pip ratio of predictions with absolute value greater than 1.2000:  0.132   samples: 2200\n",
      "CNN pip ratio of predictions with absolute value greater than 1.5000:  0.103   samples: 1142\n",
      "CNN pip ratio of predictions with absolute value greater than 1.8000:  0.134   samples: 580\n",
      "CNN pip ratio of predictions with absolute value greater than 2.1000:  0.211   samples: 315\n",
      "CNN pip ratio of predictions with absolute value greater than 2.4000:  0.296   samples: 174\n",
      "CNN pip ratio of predictions with absolute value greater than 2.7000:  0.336   samples: 103\n",
      "CNN pip ratio of predictions with absolute value greater than 3.0000:  0.364   samples: 57\n"
     ]
    }
   ],
   "source": [
    "for i in range(3,31,3):\n",
    "    i = round(i/10,3)\n",
    "    cnn_pip_rat,  len_df = calc_pip_ratio(discard_indeces_pred(fetch_results(cnn_results_file),i, keep_middle = False))\n",
    "    print(f\"CNN pip ratio of predictions with absolute value greater than {i:.4f}: \", round(cnn_pip_rat,3), f\"  samples: {len_df}\")"
   ]
  },
  {
   "cell_type": "markdown",
   "metadata": {},
   "source": [
    "$$\n",
    "Pips\\ Gained = \\sum_{i=1}^{n}{\\left\\{\\begin{matrix} \n",
    "|y_i| ,& sgn(y_i) = sgn(\\hat{y}_i) \\\\ \n",
    "-|y_i| ,& sgn(y_i) \\neq sgn(\\hat{y}_i) \\\\\n",
    "\\end{matrix}\\right.} \\\\\n",
    "\\\\\n",
    "Pip\\ ratio = \\frac{Pips\\ Gained}{\\sum_{i=1}^{n}{|y_i|}}\n",
    "$$\n"
   ]
  }
 ],
 "metadata": {
  "kernelspec": {
   "display_name": "Python 3",
   "language": "python",
   "name": "python3"
  },
  "language_info": {
   "codemirror_mode": {
    "name": "ipython",
    "version": 3
   },
   "file_extension": ".py",
   "mimetype": "text/x-python",
   "name": "python",
   "nbconvert_exporter": "python",
   "pygments_lexer": "ipython3",
   "version": "3.7.4"
  }
 },
 "nbformat": 4,
 "nbformat_minor": 2
}
